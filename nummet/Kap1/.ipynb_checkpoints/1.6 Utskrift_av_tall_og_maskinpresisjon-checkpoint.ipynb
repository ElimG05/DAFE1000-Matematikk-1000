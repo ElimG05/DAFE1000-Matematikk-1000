{
 "cells": [
  {
   "cell_type": "code",
   "execution_count": 1,
   "id": "7b16cc5e-fc8a-4868-aa29-f68a66620897",
   "metadata": {},
   "outputs": [],
   "source": [
    "import numpy as np"
   ]
  },
  {
   "cell_type": "code",
   "execution_count": 3,
   "id": "4a624c11-e9fb-4a44-87e5-422c6dec75c3",
   "metadata": {},
   "outputs": [],
   "source": [
    "x=np.pi"
   ]
  },
  {
   "cell_type": "code",
   "execution_count": 7,
   "id": "c3f9fda4-f273-4377-a0e8-049f3221a2c2",
   "metadata": {},
   "outputs": [
    {
     "name": "stdout",
     "output_type": "stream",
     "text": [
      "pi=3.141592653589793\n"
     ]
    }
   ],
   "source": [
    "print(f\"pi={x}\")"
   ]
  },
  {
   "cell_type": "code",
   "execution_count": 9,
   "id": "eba81ebb-8271-4f0a-95d1-2836b487d602",
   "metadata": {},
   "outputs": [
    {
     "name": "stdout",
     "output_type": "stream",
     "text": [
      "pi=3.141592653589793115997963468544\n"
     ]
    }
   ],
   "source": [
    "print(f\"pi={x:.30f}\")"
   ]
  },
  {
   "cell_type": "code",
   "execution_count": 11,
   "id": "45106710-8b22-49b0-a77e-068193857893",
   "metadata": {},
   "outputs": [],
   "source": [
    "y=5562363"
   ]
  },
  {
   "cell_type": "code",
   "execution_count": 13,
   "id": "b7178235-9d7c-4edc-aa2d-d6cf23cdd3ba",
   "metadata": {},
   "outputs": [
    {
     "name": "stdout",
     "output_type": "stream",
     "text": [
      "I august 2024 bodde det 5.562e+06 mennesker i Norge\n"
     ]
    }
   ],
   "source": [
    "print(f\"I august 2024 bodde det {y:.3e} mennesker i Norge\")"
   ]
  },
  {
   "cell_type": "code",
   "execution_count": 17,
   "id": "dc00d609-0fd9-49f1-a0ae-668e0a7e343d",
   "metadata": {},
   "outputs": [],
   "source": [
    "# For å formattere all utskrift fra NumPy: np.set_printoptions(linewidth=400, precision=4, floatmode = 'fixed', suppress=True)"
   ]
  },
  {
   "cell_type": "code",
   "execution_count": null,
   "id": "912f0c64-46ed-4755-aca7-b5b893da3325",
   "metadata": {},
   "outputs": [],
   "source": []
  }
 ],
 "metadata": {
  "kernelspec": {
   "display_name": "Python [conda env:base] *",
   "language": "python",
   "name": "conda-base-py"
  },
  "language_info": {
   "codemirror_mode": {
    "name": "ipython",
    "version": 3
   },
   "file_extension": ".py",
   "mimetype": "text/x-python",
   "name": "python",
   "nbconvert_exporter": "python",
   "pygments_lexer": "ipython3",
   "version": "3.12.7"
  }
 },
 "nbformat": 4,
 "nbformat_minor": 5
}
