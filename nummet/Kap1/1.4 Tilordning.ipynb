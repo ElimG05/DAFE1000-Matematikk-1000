{
 "cells": [
  {
   "cell_type": "code",
   "execution_count": 1,
   "id": "4cec1b79-9c93-4c54-be4b-1e4e11f0d900",
   "metadata": {},
   "outputs": [],
   "source": [
    "x=7 #a)"
   ]
  },
  {
   "cell_type": "code",
   "execution_count": 7,
   "id": "dddee580-cf73-4e91-8ad4-9295793e4cd8",
   "metadata": {},
   "outputs": [
    {
     "data": {
      "text/plain": [
       "14"
      ]
     },
     "execution_count": 7,
     "metadata": {},
     "output_type": "execute_result"
    }
   ],
   "source": [
    "x*2"
   ]
  },
  {
   "cell_type": "code",
   "execution_count": 9,
   "id": "ef884f3d-ad17-459e-bc1d-b2509a9466cd",
   "metadata": {},
   "outputs": [
    {
     "data": {
      "text/plain": [
       "49"
      ]
     },
     "execution_count": 9,
     "metadata": {},
     "output_type": "execute_result"
    }
   ],
   "source": [
    "x**2"
   ]
  },
  {
   "cell_type": "code",
   "execution_count": 11,
   "id": "bf1f1f4d-2343-45b8-90d7-6b5706d01e45",
   "metadata": {},
   "outputs": [],
   "source": [
    "x=2 #b)"
   ]
  },
  {
   "cell_type": "code",
   "execution_count": 13,
   "id": "0a26a4cb-e10f-4108-aa7a-bf600154c6a5",
   "metadata": {},
   "outputs": [],
   "source": [
    "x=x+1"
   ]
  },
  {
   "cell_type": "code",
   "execution_count": 15,
   "id": "44d9af0c-daca-432a-84c6-1b49d90baac0",
   "metadata": {},
   "outputs": [
    {
     "data": {
      "text/plain": [
       "3"
      ]
     },
     "execution_count": 15,
     "metadata": {},
     "output_type": "execute_result"
    }
   ],
   "source": [
    "x"
   ]
  },
  {
   "cell_type": "code",
   "execution_count": 19,
   "id": "e1e3b67e-ead2-4720-b649-f5d5bc3fca25",
   "metadata": {},
   "outputs": [],
   "source": [
    "import numpy as np"
   ]
  },
  {
   "cell_type": "code",
   "execution_count": 21,
   "id": "fba05921-4573-43d8-95e4-39f4e703d995",
   "metadata": {},
   "outputs": [],
   "source": [
    "pi=np.pi #c)"
   ]
  },
  {
   "cell_type": "code",
   "execution_count": 23,
   "id": "c46caaf3-3b59-423a-982c-b4a43cb6f887",
   "metadata": {},
   "outputs": [],
   "source": [
    "pi=10"
   ]
  },
  {
   "cell_type": "code",
   "execution_count": 25,
   "id": "c76607cb-6458-48b6-a80f-8ee4df6db632",
   "metadata": {},
   "outputs": [
    {
     "data": {
      "text/plain": [
       "3.141592653589793"
      ]
     },
     "execution_count": 25,
     "metadata": {},
     "output_type": "execute_result"
    }
   ],
   "source": [
    "np.pi"
   ]
  },
  {
   "cell_type": "code",
   "execution_count": 27,
   "id": "f876a46e-d989-407d-b62c-beda11e64947",
   "metadata": {},
   "outputs": [
    {
     "data": {
      "text/plain": [
       "10"
      ]
     },
     "execution_count": 27,
     "metadata": {},
     "output_type": "execute_result"
    }
   ],
   "source": [
    "pi"
   ]
  },
  {
   "cell_type": "code",
   "execution_count": 31,
   "id": "b8d047cc-71ed-43af-873b-185ebf1a8580",
   "metadata": {},
   "outputs": [],
   "source": [
    "pi=np.pi"
   ]
  },
  {
   "cell_type": "code",
   "execution_count": 33,
   "id": "dad9fcb0-d1df-4b60-a276-ab82d7697a9a",
   "metadata": {},
   "outputs": [
    {
     "data": {
      "text/plain": [
       "3.14"
      ]
     },
     "execution_count": 33,
     "metadata": {},
     "output_type": "execute_result"
    }
   ],
   "source": [
    "pi"
   ]
  },
  {
   "cell_type": "code",
   "execution_count": 41,
   "id": "f7ed81df-21ef-4c70-9fc5-678e3b9cabf8",
   "metadata": {
    "editable": true,
    "slideshow": {
     "slide_type": ""
    },
    "tags": []
   },
   "outputs": [
    {
     "name": "stdout",
     "output_type": "stream",
     "text": [
      "Variable               Type             Data/Info\n",
      "-------------------------------------------------\n",
      "NamespaceMagics        MetaHasTraits    <class 'IPython.core.magi<...>mespace.NamespaceMagics'>\n",
      "dataframe_columns      function         <function dataframe_columns at 0x1768fb100>\n",
      "dataframe_hash         function         <function dataframe_hash at 0x1768fb920>\n",
      "dtypes_str             function         <function dtypes_str at 0x1768fb060>\n",
      "get_dataframes         function         <function get_dataframes at 0x1768fb9c0>\n",
      "get_ipython            function         <function get_ipython at 0x1072ae3e0>\n",
      "getpass                module           <module 'getpass' from '/<...>b/python3.12/getpass.py'>\n",
      "hashlib                module           <module 'hashlib' from '/<...>b/python3.12/hashlib.py'>\n",
      "import_pandas_safely   function         <function import_pandas_safely at 0x17685b240>\n",
      "is_data_frame          function         <function is_data_frame at 0x1768fb740>\n",
      "json                   module           <module 'json' from '/opt<...>on3.12/json/__init__.py'>\n",
      "np                     module           <module 'numpy' from '/op<...>kages/numpy/__init__.py'>\n",
      "pi                     float            3.14\n",
      "sys                    module           <module 'sys' (built-in)>\n",
      "x                      int              3\n"
     ]
    }
   ],
   "source": [
    "whos"
   ]
  },
  {
   "cell_type": "code",
   "execution_count": null,
   "id": "ceb02b3a-3337-4858-82c2-cc4874e854e3",
   "metadata": {},
   "outputs": [],
   "source": []
  }
 ],
 "metadata": {
  "kernelspec": {
   "display_name": "Python [conda env:base] *",
   "language": "python",
   "name": "conda-base-py"
  },
  "language_info": {
   "codemirror_mode": {
    "name": "ipython",
    "version": 3
   },
   "file_extension": ".py",
   "mimetype": "text/x-python",
   "name": "python",
   "nbconvert_exporter": "python",
   "pygments_lexer": "ipython3",
   "version": "3.12.7"
  }
 },
 "nbformat": 4,
 "nbformat_minor": 5
}
