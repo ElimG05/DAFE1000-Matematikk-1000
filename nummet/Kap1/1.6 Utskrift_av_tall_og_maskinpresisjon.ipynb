{
 "cells": [
  {
   "cell_type": "code",
   "execution_count": 1,
   "id": "7b16cc5e-fc8a-4868-aa29-f68a66620897",
   "metadata": {},
   "outputs": [],
   "source": [
    "import numpy as np"
   ]
  },
  {
   "cell_type": "code",
   "execution_count": 47,
   "id": "4a624c11-e9fb-4a44-87e5-422c6dec75c3",
   "metadata": {},
   "outputs": [],
   "source": [
    "x=np.pi"
   ]
  },
  {
   "cell_type": "code",
   "execution_count": 49,
   "id": "c3f9fda4-f273-4377-a0e8-049f3221a2c2",
   "metadata": {},
   "outputs": [
    {
     "name": "stdout",
     "output_type": "stream",
     "text": [
      "pi=3.141592653589793\n"
     ]
    }
   ],
   "source": [
    "print(f'pi={x}')"
   ]
  },
  {
   "cell_type": "code",
   "execution_count": 51,
   "id": "eba81ebb-8271-4f0a-95d1-2836b487d602",
   "metadata": {},
   "outputs": [
    {
     "name": "stdout",
     "output_type": "stream",
     "text": [
      "pi=3.141592653589793115997963468544\n"
     ]
    }
   ],
   "source": [
    "print(f'pi={x:.30f}')"
   ]
  },
  {
   "cell_type": "code",
   "execution_count": 53,
   "id": "45106710-8b22-49b0-a77e-068193857893",
   "metadata": {},
   "outputs": [],
   "source": [
    "y=5562363"
   ]
  },
  {
   "cell_type": "code",
   "execution_count": 55,
   "id": "b7178235-9d7c-4edc-aa2d-d6cf23cdd3ba",
   "metadata": {},
   "outputs": [
    {
     "name": "stdout",
     "output_type": "stream",
     "text": [
      "I august 2024 bodde det 5.562e+06 mennesker i Norge\n"
     ]
    }
   ],
   "source": [
    "print(f\"I august 2024 bodde det {y:.3e} mennesker i Norge\")"
   ]
  },
  {
   "cell_type": "code",
   "execution_count": 57,
   "id": "dc00d609-0fd9-49f1-a0ae-668e0a7e343d",
   "metadata": {},
   "outputs": [],
   "source": [
    "# For å formattere all utskrift fra NumPy: np.set_printoptions(linewidth=400, precision=4, floatmode = 'fixed', suppress=True)"
   ]
  },
  {
   "cell_type": "code",
   "execution_count": 61,
   "id": "c8066bcb-77bc-44e4-b960-0c7649baf11e",
   "metadata": {},
   "outputs": [],
   "source": [
    "x=3*np.pi #a)"
   ]
  },
  {
   "cell_type": "code",
   "execution_count": 63,
   "id": "bae3426d-21ce-42d1-bfcd-419da1e5948f",
   "metadata": {},
   "outputs": [],
   "source": [
    "y=1234567890"
   ]
  },
  {
   "cell_type": "code",
   "execution_count": 85,
   "id": "291b31dc-1611-4d67-8225-21649693c494",
   "metadata": {},
   "outputs": [
    {
     "name": "stdout",
     "output_type": "stream",
     "text": [
      "9.425\n"
     ]
    }
   ],
   "source": [
    "print(f'{x:.3f}')"
   ]
  },
  {
   "cell_type": "code",
   "execution_count": 89,
   "id": "334344e9-9e2d-4170-8848-47a526a35f8a",
   "metadata": {},
   "outputs": [
    {
     "name": "stdout",
     "output_type": "stream",
     "text": [
      "1234567890\n"
     ]
    }
   ],
   "source": [
    "print(f'{y}')"
   ]
  },
  {
   "cell_type": "code",
   "execution_count": 83,
   "id": "45480890-32f6-4206-8aaa-4d1ab6e210cc",
   "metadata": {},
   "outputs": [
    {
     "name": "stdout",
     "output_type": "stream",
     "text": [
      "1.2e+09\n"
     ]
    }
   ],
   "source": [
    "print(f'{y:.1e}')"
   ]
  },
  {
   "cell_type": "code",
   "execution_count": 91,
   "id": "67a060b7-1562-4d6e-9316-b1152c377063",
   "metadata": {},
   "outputs": [
    {
     "name": "stdout",
     "output_type": "stream",
     "text": [
      "9.4248\n"
     ]
    }
   ],
   "source": [
    "print(f'{x:.4f}')"
   ]
  },
  {
   "cell_type": "code",
   "execution_count": 93,
   "id": "d6137bc5-8454-4337-b0c6-16dd39c29c71",
   "metadata": {},
   "outputs": [
    {
     "name": "stdout",
     "output_type": "stream",
     "text": [
      "1.234568e+09\n"
     ]
    }
   ],
   "source": [
    "print(f'{y:.6e}')"
   ]
  },
  {
   "cell_type": "code",
   "execution_count": 131,
   "id": "8271d692-5ed1-4f5e-8dc8-3207c3321908",
   "metadata": {},
   "outputs": [],
   "source": [
    "a=0.1"
   ]
  },
  {
   "cell_type": "code",
   "execution_count": 133,
   "id": "5b666c90-b82c-4da1-84a8-517dc1a0538c",
   "metadata": {},
   "outputs": [
    {
     "name": "stdout",
     "output_type": "stream",
     "text": [
      "0.10000000000000000555111512312578270211815834045410156250\n"
     ]
    }
   ],
   "source": [
    "print(f'{a:.56f}') #b) hva er egt tallet 0.1 på en datamaskin"
   ]
  },
  {
   "cell_type": "code",
   "execution_count": 135,
   "id": "388350bd-c49a-4d7f-b438-fd9ff60ab23f",
   "metadata": {},
   "outputs": [],
   "source": [
    "x=0.1 #c)"
   ]
  },
  {
   "cell_type": "code",
   "execution_count": 193,
   "id": "d68fa070-aefd-491d-865b-26280430857d",
   "metadata": {},
   "outputs": [],
   "source": [
    "y=1.0e-18"
   ]
  },
  {
   "cell_type": "code",
   "execution_count": 195,
   "id": "d910a557-d86d-4e9f-bf4f-253c12d6bd26",
   "metadata": {},
   "outputs": [],
   "source": [
    "z=x-y #når det blir så store forskjeller mellom x og y, vil ikke datamaskinen kunne utføre subtraksjonen, \n",
    "      #og det blir som om y hadde vært 0"
   ]
  },
  {
   "cell_type": "code",
   "execution_count": 197,
   "id": "2f1390dd-dd88-4f60-adee-7756a4f158c9",
   "metadata": {},
   "outputs": [
    {
     "name": "stdout",
     "output_type": "stream",
     "text": [
      "0.1000000000000000055511151231257827021182\n"
     ]
    }
   ],
   "source": [
    "print(f'{x:.40f}')"
   ]
  },
  {
   "cell_type": "code",
   "execution_count": 199,
   "id": "9e7565f7-cc40-421d-b1b4-65fc53b2887f",
   "metadata": {},
   "outputs": [
    {
     "name": "stdout",
     "output_type": "stream",
     "text": [
      "0.1000000000000000055511151231257827021182\n"
     ]
    }
   ],
   "source": [
    "print(f'{z:.40f}')"
   ]
  }
 ],
 "metadata": {
  "kernelspec": {
   "display_name": "Python [conda env:base] *",
   "language": "python",
   "name": "conda-base-py"
  },
  "language_info": {
   "codemirror_mode": {
    "name": "ipython",
    "version": 3
   },
   "file_extension": ".py",
   "mimetype": "text/x-python",
   "name": "python",
   "nbconvert_exporter": "python",
   "pygments_lexer": "ipython3",
   "version": "3.12.7"
  }
 },
 "nbformat": 4,
 "nbformat_minor": 5
}
