{
 "cells": [
  {
   "cell_type": "code",
   "execution_count": 13,
   "id": "de8bac6f-466b-4c72-ac77-7365920b1d7b",
   "metadata": {},
   "outputs": [],
   "source": [
    "import numpy as np"
   ]
  },
  {
   "cell_type": "code",
   "execution_count": 31,
   "id": "0e7cf97b-445c-41ad-bd1c-4e93889dd33e",
   "metadata": {},
   "outputs": [],
   "source": [
    "def fakultet (n):\n",
    "\n",
    "    f = 1\n",
    "    \n",
    "    for i in range (1, n+1):\n",
    "        f = f*i\n",
    "    return f\n",
    "    "
   ]
  },
  {
   "cell_type": "code",
   "execution_count": 39,
   "id": "0d163007-ef3b-4405-83c6-d31ea84a3b71",
   "metadata": {},
   "outputs": [
    {
     "name": "stdout",
     "output_type": "stream",
     "text": [
      "4! =  24\n"
     ]
    }
   ],
   "source": [
    "print(\"4! = \", fakultet(4))"
   ]
  },
  {
   "cell_type": "code",
   "execution_count": 41,
   "id": "61b67c33-9970-4638-b106-f45d257c9004",
   "metadata": {},
   "outputs": [
    {
     "name": "stdout",
     "output_type": "stream",
     "text": [
      "10! =  3628800\n"
     ]
    }
   ],
   "source": [
    "print(\"10! = \", fakultet(10))"
   ]
  },
  {
   "cell_type": "code",
   "execution_count": 43,
   "id": "63d8282d-e79b-4e5a-976a-d546263c2529",
   "metadata": {},
   "outputs": [
    {
     "name": "stdout",
     "output_type": "stream",
     "text": [
      "20! =  2432902008176640000\n"
     ]
    }
   ],
   "source": [
    "print(\"20! = \", fakultet(20))"
   ]
  },
  {
   "cell_type": "code",
   "execution_count": null,
   "id": "d2bb08c3-ed3b-49c1-95f1-d6088f2d90c4",
   "metadata": {},
   "outputs": [],
   "source": []
  }
 ],
 "metadata": {
  "kernelspec": {
   "display_name": "Python [conda env:base] *",
   "language": "python",
   "name": "conda-base-py"
  },
  "language_info": {
   "codemirror_mode": {
    "name": "ipython",
    "version": 3
   },
   "file_extension": ".py",
   "mimetype": "text/x-python",
   "name": "python",
   "nbconvert_exporter": "python",
   "pygments_lexer": "ipython3",
   "version": "3.12.7"
  }
 },
 "nbformat": 4,
 "nbformat_minor": 5
}
