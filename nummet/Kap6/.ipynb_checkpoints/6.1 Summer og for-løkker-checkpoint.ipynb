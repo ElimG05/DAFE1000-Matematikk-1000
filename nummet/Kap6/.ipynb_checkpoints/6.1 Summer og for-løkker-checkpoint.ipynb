{
 "cells": [
  {
   "cell_type": "code",
   "execution_count": 47,
   "id": "935cf2c8-b8e4-4811-a7e0-4a661673a720",
   "metadata": {},
   "outputs": [],
   "source": [
    "#a)"
   ]
  },
  {
   "cell_type": "code",
   "execution_count": 49,
   "id": "4cfb7443-9873-44ab-9134-8885d2ea3eda",
   "metadata": {},
   "outputs": [],
   "source": [
    "s=0 #Sett summen til 0"
   ]
  },
  {
   "cell_type": "code",
   "execution_count": 53,
   "id": "dd36d787-18f0-4b70-8e49-8f52a87d0532",
   "metadata": {},
   "outputs": [
    {
     "name": "stdout",
     "output_type": "stream",
     "text": [
      "386\n",
      "1\n",
      "390\n",
      "2\n",
      "399\n",
      "3\n",
      "415\n",
      "4\n",
      "440\n",
      "5\n",
      "476\n",
      "6\n",
      "525\n",
      "7\n",
      "589\n",
      "8\n",
      "670\n",
      "9\n",
      "770\n",
      "10\n"
     ]
    }
   ],
   "source": [
    "for i in range(1,11): #Bestemmer summasjonsgrenene. Fra og med 1 og til 11, der siste i-verdi er 10.\n",
    "    s = s+i**2        #Legg til et ledd"
   ]
  },
  {
   "cell_type": "code",
   "execution_count": 55,
   "id": "773cb09f-a1da-4238-97e8-1b08d121b23c",
   "metadata": {},
   "outputs": [
    {
     "name": "stdout",
     "output_type": "stream",
     "text": [
      "s = 770.0000\n"
     ]
    }
   ],
   "source": [
    "#Skriv summen til skjerm:\n",
    "print(f's = {s:.4f}') #skriv ut med 4 desimaler"
   ]
  },
  {
   "cell_type": "code",
   "execution_count": null,
   "id": "e8925449-86de-41d2-aba0-a444b31eee99",
   "metadata": {},
   "outputs": [],
   "source": []
  }
 ],
 "metadata": {
  "kernelspec": {
   "display_name": "Python [conda env:base] *",
   "language": "python",
   "name": "conda-base-py"
  },
  "language_info": {
   "codemirror_mode": {
    "name": "ipython",
    "version": 3
   },
   "file_extension": ".py",
   "mimetype": "text/x-python",
   "name": "python",
   "nbconvert_exporter": "python",
   "pygments_lexer": "ipython3",
   "version": "3.12.7"
  }
 },
 "nbformat": 4,
 "nbformat_minor": 5
}
