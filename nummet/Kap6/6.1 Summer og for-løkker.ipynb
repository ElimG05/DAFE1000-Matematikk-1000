{
 "cells": [
  {
   "cell_type": "code",
   "execution_count": 108,
   "id": "935cf2c8-b8e4-4811-a7e0-4a661673a720",
   "metadata": {},
   "outputs": [],
   "source": [
    "#a), b), c)"
   ]
  },
  {
   "cell_type": "code",
   "execution_count": 110,
   "id": "4cfb7443-9873-44ab-9134-8885d2ea3eda",
   "metadata": {},
   "outputs": [],
   "source": [
    "s=0 #Sett summen til 0"
   ]
  },
  {
   "cell_type": "code",
   "execution_count": 112,
   "id": "dd36d787-18f0-4b70-8e49-8f52a87d0532",
   "metadata": {},
   "outputs": [
    {
     "name": "stdout",
     "output_type": "stream",
     "text": [
      "1\n",
      "1\n",
      "2\n",
      "5\n",
      "3\n",
      "14\n",
      "4\n",
      "30\n",
      "5\n",
      "55\n",
      "6\n",
      "91\n",
      "7\n",
      "140\n",
      "8\n",
      "204\n",
      "9\n",
      "285\n",
      "10\n",
      "385\n"
     ]
    }
   ],
   "source": [
    "for i in range(1,11): #Bestemmer summasjonsgrenene. Fra og med 1 og til 11, der siste i-verdi er 10.\n",
    "    print(i) #skriv ut i \n",
    "    s = s+i**2  #Legg til et ledd\n",
    "    print(s) #skriv ut s"
   ]
  },
  {
   "cell_type": "code",
   "execution_count": 114,
   "id": "773cb09f-a1da-4238-97e8-1b08d121b23c",
   "metadata": {
    "panel-layout": {
     "height": 0,
     "visible": true,
     "width": 100
    }
   },
   "outputs": [
    {
     "name": "stdout",
     "output_type": "stream",
     "text": [
      "s = 385.0000\n"
     ]
    }
   ],
   "source": [
    "#Skriv summen til skjerm:\n",
    "print(f's = {s:.4f}') #skriv ut med 4 desimaler"
   ]
  },
  {
   "cell_type": "markdown",
   "id": "466aecf5-5c9a-4d91-a63c-79b506ecdac5",
   "metadata": {
    "panel-layout": {
     "height": 51.140625,
     "visible": true,
     "width": 100
    }
   },
   "source": [
    "Fikk samme svar med det jeg regnet ut for hånd"
   ]
  },
  {
   "cell_type": "code",
   "execution_count": 141,
   "id": "b7dfc078-17ff-437c-8b8f-bf519c673a51",
   "metadata": {},
   "outputs": [],
   "source": [
    "s=0 #d)"
   ]
  },
  {
   "cell_type": "code",
   "execution_count": 143,
   "id": "59895802-491a-472d-bb1e-b120f2005847",
   "metadata": {},
   "outputs": [],
   "source": [
    "for i in range(1,101):\n",
    "    s=s+i**2"
   ]
  },
  {
   "cell_type": "code",
   "execution_count": 145,
   "id": "644704f4-264c-491e-9f68-240f613aa649",
   "metadata": {
    "panel-layout": {
     "height": 0,
     "visible": true,
     "width": 100
    }
   },
   "outputs": [
    {
     "name": "stdout",
     "output_type": "stream",
     "text": [
      "s = 338350.0000\n"
     ]
    }
   ],
   "source": [
    "print(f's = {s:.4f}')"
   ]
  },
  {
   "cell_type": "code",
   "execution_count": 151,
   "id": "f9836ddf-6a5b-4afb-922c-0de7e3016f80",
   "metadata": {},
   "outputs": [],
   "source": [
    "import numpy as np"
   ]
  },
  {
   "cell_type": "code",
   "execution_count": 153,
   "id": "57a58792-4159-404a-b08b-f2bfdd2ad8f2",
   "metadata": {},
   "outputs": [],
   "source": [
    "s=0 #e)"
   ]
  },
  {
   "cell_type": "code",
   "execution_count": 155,
   "id": "df4aaeb6-dfe2-42e4-9567-1294c0ac393d",
   "metadata": {},
   "outputs": [],
   "source": [
    "for i in range(5,21):\n",
    "    s=s+np.sqrt(i)"
   ]
  },
  {
   "cell_type": "code",
   "execution_count": 159,
   "id": "6422f4a5-d6cf-4772-8e74-b603d91f3bda",
   "metadata": {
    "panel-layout": {
     "height": 0,
     "visible": true,
     "width": 100
    }
   },
   "outputs": [
    {
     "name": "stdout",
     "output_type": "stream",
     "text": [
      "s = 55.5197\n"
     ]
    }
   ],
   "source": [
    "print(f's = {s:.4f}')"
   ]
  },
  {
   "cell_type": "markdown",
   "id": "6da24dbf-c532-405b-bc93-b1e06f46a4d4",
   "metadata": {
    "panel-layout": {
     "height": 51.140625,
     "visible": true,
     "width": 100
    }
   },
   "source": [
    "f) Summen som blir regnet i kodelinjene er Σ N=12 i=1 1/i"
   ]
  }
 ],
 "metadata": {
  "kernelspec": {
   "display_name": "Python [conda env:base] *",
   "language": "python",
   "name": "conda-base-py"
  },
  "language_info": {
   "codemirror_mode": {
    "name": "ipython",
    "version": 3
   },
   "file_extension": ".py",
   "mimetype": "text/x-python",
   "name": "python",
   "nbconvert_exporter": "python",
   "pygments_lexer": "ipython3",
   "version": "3.12.7"
  },
  "panel-cell-order": [
   "773cb09f-a1da-4238-97e8-1b08d121b23c",
   "466aecf5-5c9a-4d91-a63c-79b506ecdac5",
   "644704f4-264c-491e-9f68-240f613aa649",
   "6422f4a5-d6cf-4772-8e74-b603d91f3bda",
   "6da24dbf-c532-405b-bc93-b1e06f46a4d4"
  ]
 },
 "nbformat": 4,
 "nbformat_minor": 5
}
