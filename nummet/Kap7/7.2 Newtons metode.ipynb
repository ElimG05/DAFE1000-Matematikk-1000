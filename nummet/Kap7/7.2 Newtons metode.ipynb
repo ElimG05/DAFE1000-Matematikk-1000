{
 "cells": [
  {
   "cell_type": "code",
   "execution_count": 5,
   "id": "02645b78-daf5-48b8-b405-ed7ff00ef211",
   "metadata": {},
   "outputs": [],
   "source": [
    "def f(x):\n",
    "    return x^2 + 2*x"
   ]
  },
  {
   "cell_type": "code",
   "execution_count": 7,
   "id": "28ae4014-235c-4f01-8d13-a4ca186b1893",
   "metadata": {},
   "outputs": [
    {
     "ename": "SyntaxError",
     "evalue": "unterminated f-string literal (detected at line 1) (2505457512.py, line 1)",
     "output_type": "error",
     "traceback": [
      "\u001b[0;36m  Cell \u001b[0;32mIn[7], line 1\u001b[0;36m\u001b[0m\n\u001b[0;31m    f'(x)\u001b[0m\n\u001b[0m    ^\u001b[0m\n\u001b[0;31mSyntaxError\u001b[0m\u001b[0;31m:\u001b[0m unterminated f-string literal (detected at line 1)\n"
     ]
    }
   ],
   "source": [
    "f'(x)"
   ]
  },
  {
   "cell_type": "code",
   "execution_count": null,
   "id": "32456ba9-fad6-44e5-afd6-636507350c5a",
   "metadata": {},
   "outputs": [],
   "source": []
  }
 ],
 "metadata": {
  "kernelspec": {
   "display_name": "Python [conda env:base] *",
   "language": "python",
   "name": "conda-base-py"
  },
  "language_info": {
   "codemirror_mode": {
    "name": "ipython",
    "version": 3
   },
   "file_extension": ".py",
   "mimetype": "text/x-python",
   "name": "python",
   "nbconvert_exporter": "python",
   "pygments_lexer": "ipython3",
   "version": "3.12.7"
  }
 },
 "nbformat": 4,
 "nbformat_minor": 5
}
