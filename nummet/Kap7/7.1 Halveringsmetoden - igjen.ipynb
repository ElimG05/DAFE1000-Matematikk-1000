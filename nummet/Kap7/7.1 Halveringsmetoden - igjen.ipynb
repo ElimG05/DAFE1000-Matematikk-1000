{
 "cells": [
  {
   "cell_type": "code",
   "execution_count": 29,
   "id": "867ca6b1-63bb-4402-9117-fbaf0a0c9c4b",
   "metadata": {},
   "outputs": [],
   "source": [
    "#a)\n",
    "import numpy as np\n",
    "import matplotlib.pyplot as plt"
   ]
  },
  {
   "cell_type": "code",
   "execution_count": 31,
   "id": "896ebc23-c210-4746-ac11-b3a69545a390",
   "metadata": {},
   "outputs": [],
   "source": [
    "x=np.linspace(0,2,100) "
   ]
  },
  {
   "cell_type": "code",
   "execution_count": 43,
   "id": "18c8e1c6-0124-4fa4-a9bb-47cc39144456",
   "metadata": {},
   "outputs": [],
   "source": [
    "a = 0\n",
    "b = 2"
   ]
  },
  {
   "cell_type": "code",
   "execution_count": 45,
   "id": "5d3ad5fc-4898-4ca4-8179-452df074ad15",
   "metadata": {},
   "outputs": [],
   "source": [
    "def f(x):\n",
    "    return(np.sqrt(x) - np.cos(x))"
   ]
  },
  {
   "cell_type": "code",
   "execution_count": 47,
   "id": "5f083590-58fa-4542-a4df-02e28d4887b5",
   "metadata": {},
   "outputs": [],
   "source": [
    "fa = f(a)\n",
    "fb = f(b)"
   ]
  },
  {
   "cell_type": "code",
   "execution_count": 62,
   "id": "d4412168-e247-4472-9360-e9563c6853d5",
   "metadata": {},
   "outputs": [
    {
     "name": "stdout",
     "output_type": "stream",
     "text": [
      "c = 1.000\n",
      "c = 0.500\n",
      "c = 0.750\n",
      "c = 0.625\n",
      "c = 0.688\n",
      "c = 0.656\n",
      "c = 0.641\n",
      "c = 0.648\n",
      "c = 0.645\n",
      "c = 0.643\n",
      "c = 0.642\n"
     ]
    }
   ],
   "source": [
    "while b - a > 1e-3:  # Stopp når intervallet er mindre enn 0.001\n",
    "    c = (a + b) / 2\n",
    "    fc = f(c)\n",
    "    fa = f(a)\n",
    "\n",
    "    if fa * fc < 0:  # Hvis f(a) og f(c) har motsatt fortegn\n",
    "        b = c  # Oppdater høyre grense\n",
    "    else:\n",
    "        a = c  # Oppdater venstre grense\n",
    "\n",
    "    print(f'c = {c:.3f}')  # Skriv ut den aktuelle verdien av c"
   ]
  },
  {
   "cell_type": "code",
   "execution_count": null,
   "id": "daa84e3e-25ce-4a72-84ee-e41bff00a3f9",
   "metadata": {},
   "outputs": [],
   "source": []
  },
  {
   "cell_type": "code",
   "execution_count": null,
   "id": "51d36a72-1f41-4036-8175-a533c81f1eee",
   "metadata": {},
   "outputs": [],
   "source": []
  }
 ],
 "metadata": {
  "kernelspec": {
   "display_name": "Python [conda env:base] *",
   "language": "python",
   "name": "conda-base-py"
  },
  "language_info": {
   "codemirror_mode": {
    "name": "ipython",
    "version": 3
   },
   "file_extension": ".py",
   "mimetype": "text/x-python",
   "name": "python",
   "nbconvert_exporter": "python",
   "pygments_lexer": "ipython3",
   "version": "3.12.7"
  }
 },
 "nbformat": 4,
 "nbformat_minor": 5
}
