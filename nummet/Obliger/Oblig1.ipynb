{
 "cells": [
  {
   "cell_type": "code",
   "execution_count": 2,
   "id": "42a0101c-084b-4d5c-8154-92b98e55c0bb",
   "metadata": {},
   "outputs": [],
   "source": [
    "#importere de pyhon bibliotekene jeg trenger:\n",
    "import numpy as np\n",
    "import matplotlib.pyplot as plt"
   ]
  },
  {
   "cell_type": "code",
   "execution_count": 6,
   "id": "f901afa6-a6ed-40eb-aa5c-04d74b14dbbb",
   "metadata": {},
   "outputs": [
    {
     "name": "stdin",
     "output_type": "stream",
     "text": [
      "Skriv inn et naturlig heltall n:  3\n",
      "Skriv inn den realdelen av a:  0\n",
      "Skriv inn den imaginærdelen av a:  -8\n"
     ]
    }
   ],
   "source": [
    "# Input fra bruker for verdier av n, x og y\n",
    "n = int(input(\"Skriv inn et naturlig heltall n: \")) \n",
    "x = float(input(\"Skriv inn den realdelen av a: \"))\n",
    "y = float(input(\"Skriv inn den imaginærdelen av a: \"))"
   ]
  },
  {
   "cell_type": "code",
   "execution_count": 8,
   "id": "e5afaf08-6630-4189-8fff-ed95980efc9e",
   "metadata": {},
   "outputs": [],
   "source": [
    "#Begrense r ved hjelp av pytagoras-setning => r^2=x^2+y^2:\n",
    "r = np.sqrt(x**2+y**2)"
   ]
  },
  {
   "cell_type": "code",
   "execution_count": 10,
   "id": "6aa4afc1-a634-41fc-a610-a1e8e4b4b6e9",
   "metadata": {},
   "outputs": [
    {
     "name": "stdout",
     "output_type": "stream",
     "text": [
      "4.71238898038469\n"
     ]
    }
   ],
   "source": [
    "theta = 0  \n",
    "#Jeg har valgt å bruke cosinus for å regne ut vinkelen theta.  \n",
    "#Cosinus fungerer fint for punkter i første og andre kvadrant, men for punkter i tredje og fjerde kvadrant får vi et problem for å få riktig vinkel. \n",
    "\n",
    "#For å løse dette laget jeg en if-setning som bestemmer forskjellige regnemåter basert på hvilket kvadrant punktet (x, y) ligger i:\n",
    "#Når både x og y er 0, er vinkelen også 0:\n",
    "if x == 0 and y == 0:\n",
    "    theta = 0\n",
    "\n",
    "#For punkter i første og andre kvadrant fungerer arccos(x/r) for seg selv:\n",
    "elif y >= 0:  \n",
    "    theta = np.arccos(x / r)\n",
    "\n",
    "#For punkter i tredje og fjerde kvadrant må vi gjøre flere begreninger:\n",
    "#arccos(x/r) gir en vinkel speilvendt i forhold til vinkel vi ønsker å finne.\n",
    "#Ved å trekke fra π, finner vi hvor mye mer enn π vi har gått og kan trekke pi fra den vinkelen vi først fikk for å får vi riktig vinkel.\n",
    "else:  \n",
    "    theta = np.pi - (np.arccos(x / r) - np.pi)\n",
    "\n",
    "print(theta)"
   ]
  },
  {
   "cell_type": "code",
   "execution_count": 12,
   "id": "76990c58-27e7-4769-be78-ab64f603d655",
   "metadata": {},
   "outputs": [],
   "source": [
    "#Når z er opphøyd i n må vi opphøye r^1/n for å finne ut hva r er for z:\n",
    "r_root = r ** (1/n)"
   ]
  },
  {
   "cell_type": "code",
   "execution_count": 14,
   "id": "0761e0ad-8626-44df-b7f6-028f35810234",
   "metadata": {},
   "outputs": [],
   "source": [
    "#Velger å lage et tomt array, for å senere kunne legge inn z_veridene etterhvert som vi finner de:\n",
    "z_verdier = []"
   ]
  },
  {
   "cell_type": "code",
   "execution_count": 27,
   "id": "d46e9ff1-4860-4d35-9363-8e5419ed65ab",
   "metadata": {},
   "outputs": [
    {
     "name": "stdout",
     "output_type": "stream",
     "text": [
      "z_0 = 0.000+2.000j\n",
      "z_1 = -1.732-1.000j\n",
      "z_2 = 1.732-1.000j\n"
     ]
    }
   ],
   "source": [
    "#Kjører en for-løkke for å finne alle n løsningene av ligningen z^n = a:\n",
    "for k in range(n):\n",
    "    \n",
    "    # Beregner vinkelen for denne løsningen. Vi deler både theta og 2πk på n.\n",
    "    theta_root = (theta + 2 * np.pi * k) / n\n",
    "    \n",
    "    # Beregner z-verdien ved å kombinere r_root og e^(i * theta_root). Da vil vi få en løsning i kartesisk form.\n",
    "    z = r_root * np.exp(1j * theta_root)\n",
    "    \n",
    "    # Legger z-verdien inn i arrayet vi laget tidligere:\n",
    "    z_verdier.append(z) \n",
    "    \n",
    "    print(f\"z_{k} = {z:.3f}\")    \n"
   ]
  },
  {
   "cell_type": "code",
   "execution_count": 18,
   "id": "5aecea27-7bb1-4051-9e1a-06023b15bbad",
   "metadata": {},
   "outputs": [
    {
     "data": {
      "image/png": "[encoded data removed]",
      "text/plain": [
       "<Figure size 640x480 with 1 Axes>"
      ]
     },
     "metadata": {},
     "output_type": "display_data"
    }
   ],
   "source": [
    "#Plotter løsningene i det komplekse planet, med realdelen på x-aksen og imaginærdelen på y-aksen. Merker punktene med en stjerne,*.\n",
    "plt.plot(np.real(z_verdier), np.imag(z_verdier),'*')\n",
    "plt.xlabel('Real-del') #Legger til navn på x-aksen\n",
    "plt.ylabel('Imaginær-del') #Legger til navn på y-aksen\n",
    "plt.grid() #Legger til rutenett\n",
    "plt.show() #Viser plottet"
   ]
  },
  {
   "cell_type": "code",
   "execution_count": null,
   "id": "05971ddc-761d-43e6-a633-1afdf1d5e61f",
   "metadata": {},
   "outputs": [],
   "source": []
  },
  {
   "cell_type": "code",
   "execution_count": null,
   "id": "6ecccb01-01fb-4e60-85ad-2af0330a05ee",
   "metadata": {},
   "outputs": [],
   "source": []
  }
 ],
 "metadata": {
  "kernelspec": {
   "display_name": "Python [conda env:base] *",
   "language": "python",
   "name": "conda-base-py"
  },
  "language_info": {
   "codemirror_mode": {
    "name": "ipython",
    "version": 3
   },
   "file_extension": ".py",
   "mimetype": "text/x-python",
   "name": "python",
   "nbconvert_exporter": "python",
   "pygments_lexer": "ipython3",
   "version": "3.12.7"
  }
 },
 "nbformat": 4,
 "nbformat_minor": 5
}
