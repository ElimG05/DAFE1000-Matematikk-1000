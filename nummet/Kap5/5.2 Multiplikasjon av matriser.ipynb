{
 "cells": [
  {
   "cell_type": "code",
   "execution_count": 11,
   "id": "3eebaf51-3111-4580-bacc-a4dcc0e4484d",
   "metadata": {},
   "outputs": [],
   "source": [
    "import numpy as np"
   ]
  },
  {
   "cell_type": "code",
   "execution_count": 13,
   "id": "c6add1d6-07f8-4766-976a-b9dbf9628c9b",
   "metadata": {},
   "outputs": [],
   "source": [
    "#a)\n",
    "A = np.array([[1, 2, 3], [4, 5, 6], [7, 8, 9]])"
   ]
  },
  {
   "cell_type": "code",
   "execution_count": 15,
   "id": "f92fba0d-9411-4862-bd0c-45656529dbfd",
   "metadata": {},
   "outputs": [],
   "source": [
    "B = np.array([[2, 4, 6], [8, 10, 12], [14, 16, 18]])"
   ]
  },
  {
   "cell_type": "code",
   "execution_count": 19,
   "id": "fcdde69d-b7b9-43da-8c1f-3b793182fe10",
   "metadata": {},
   "outputs": [
    {
     "name": "stdout",
     "output_type": "stream",
     "text": [
      "[[  2   8  18]\n",
      " [ 32  50  72]\n",
      " [ 98 128 162]]\n"
     ]
    }
   ],
   "source": [
    "AB = A*B\n",
    "print(AB)"
   ]
  },
  {
   "cell_type": "code",
   "execution_count": null,
   "id": "4b8d7d41-c5c2-4401-975a-df0b7726ac68",
   "metadata": {},
   "outputs": [],
   "source": [
    "BA = B*A\n",
    "print(AB)"
   ]
  }
 ],
 "metadata": {
  "kernelspec": {
   "display_name": "Python [conda env:base] *",
   "language": "python",
   "name": "conda-base-py"
  },
  "language_info": {
   "codemirror_mode": {
    "name": "ipython",
    "version": 3
   },
   "file_extension": ".py",
   "mimetype": "text/x-python",
   "name": "python",
   "nbconvert_exporter": "python",
   "pygments_lexer": "ipython3",
   "version": "3.12.7"
  }
 },
 "nbformat": 4,
 "nbformat_minor": 5
}
