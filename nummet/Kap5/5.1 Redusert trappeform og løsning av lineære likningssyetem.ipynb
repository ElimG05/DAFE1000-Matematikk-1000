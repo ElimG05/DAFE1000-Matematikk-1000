{
 "cells": [
  {
   "cell_type": "code",
   "execution_count": 4,
   "id": "3ca8ff90-6bd7-4ff2-8eed-020842d3ab92",
   "metadata": {},
   "outputs": [],
   "source": [
    "import numpy as np\n",
    "import sympy as sp"
   ]
  },
  {
   "cell_type": "code",
   "execution_count": 8,
   "id": "5df5d139-4b62-4974-93e2-b04e3d7ca6b6",
   "metadata": {},
   "outputs": [],
   "source": [
    "T = np.array([[1,2,3], [4,5,6]])"
   ]
  },
  {
   "cell_type": "code",
   "execution_count": 12,
   "id": "541e27fc-da6a-4fb3-9b7e-23c688679919",
   "metadata": {},
   "outputs": [
    {
     "name": "stdout",
     "output_type": "stream",
     "text": [
      "Matrix([[1, 0, -1], [0, 1, 2]])\n"
     ]
    }
   ],
   "source": [
    "R = sp.Matrix(T).rref()[0]\n",
    "print(R)"
   ]
  },
  {
   "cell_type": "code",
   "execution_count": 24,
   "id": "18d5904b-b4f8-464a-baed-59a83b637cb8",
   "metadata": {},
   "outputs": [],
   "source": [
    "#b) \n",
    "#Totalmatrisen:\n",
    "B = np.array([[5, 1, 1, -2, 2], [1, -1, 1, 7, 30], [2, 1, 0, -5, -16], [2, 0, 1, 3, 17]])"
   ]
  },
  {
   "cell_type": "code",
   "execution_count": 36,
   "id": "4abecddb-2bac-45aa-b009-4a7b8cb7795c",
   "metadata": {},
   "outputs": [
    {
     "name": "stdout",
     "output_type": "stream",
     "text": [
      "Matrix([[1, 0, 0, 0, 1], [0, 1, 0, 0, 2], [0, 0, 1, 0, 3], [0, 0, 0, 1, 4]])\n"
     ]
    }
   ],
   "source": [
    "#c)\n",
    "#rekkeredusere totalmatrisen B\n",
    "B_red = sp.Matrix(B).rref()[0]\n",
    "print(B_red)"
   ]
  },
  {
   "cell_type": "raw",
   "id": "da73c0f1-e9fd-42cb-af4e-e35e2d5553f8",
   "metadata": {},
   "source": [
    "Løsning på likningssystemet: x1 = 1, x2 = 2, x3 = 3, x4 = 4"
   ]
  },
  {
   "cell_type": "code",
   "execution_count": 48,
   "id": "7fe2c435-1903-4f7e-a47a-41e7b1daa2f6",
   "metadata": {},
   "outputs": [
    {
     "name": "stdout",
     "output_type": "stream",
     "text": [
      "Matrix([[1, 0, 6/5, 0, 1/5, 14/5], [0, 1, -3/5, 0, -13/5, -89/10], [0, 0, 0, 1, -3, -15/2]])\n"
     ]
    }
   ],
   "source": [
    "#d) \n",
    "D = np.array([[1, 2, 0, -2, 1, 0], [2, -1, 3, 1, 0, 7], [3, 1, 3, 1, -5, -8]])\n",
    "D_red = sp.Matrix(D).rref()[0]\n",
    "print(D_red)"
   ]
  },
  {
   "cell_type": "raw",
   "id": "903b0e7b-5f63-47e9-9abb-34c2b51ed15f",
   "metadata": {},
   "source": [
    "Løsningen på likningssystemet: x1 = 14/5 - 6/5x3 - 1/5x5, x2 = -89/10 + 3/5x3 + 13/5x5, x3 = x3, x4 = -15/2 + 3x5, x5 = x5\n",
    "Her er x3 og x5 frie variabler, noe som gjør at dette likningssystemet har uendlige løsninger"
   ]
  },
  {
   "cell_type": "code",
   "execution_count": null,
   "id": "c9cea01a-9702-4576-8673-b43df7240bbe",
   "metadata": {},
   "outputs": [],
   "source": []
  }
 ],
 "metadata": {
  "kernelspec": {
   "display_name": "Python [conda env:base] *",
   "language": "python",
   "name": "conda-base-py"
  },
  "language_info": {
   "codemirror_mode": {
    "name": "ipython",
    "version": 3
   },
   "file_extension": ".py",
   "mimetype": "text/x-python",
   "name": "python",
   "nbconvert_exporter": "python",
   "pygments_lexer": "ipython3",
   "version": "3.12.7"
  }
 },
 "nbformat": 4,
 "nbformat_minor": 5
}
