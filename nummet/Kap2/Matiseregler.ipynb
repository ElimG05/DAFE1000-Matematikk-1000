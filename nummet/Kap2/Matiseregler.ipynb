{
 "cells": [
  {
   "cell_type": "code",
   "execution_count": 44,
   "id": "37a5760a-bac5-499d-b575-b0044b6222a0",
   "metadata": {},
   "outputs": [],
   "source": [
    "import numpy as np"
   ]
  },
  {
   "cell_type": "code",
   "execution_count": 46,
   "id": "57ae887e-d747-4286-8db4-dc491aff3169",
   "metadata": {},
   "outputs": [],
   "source": [
    "A = np.array([[2, 4], [5, -6]]) #2X2\n",
    "B = np.array([[9, -3], [3, 6]]) #2X2"
   ]
  },
  {
   "cell_type": "code",
   "execution_count": 48,
   "id": "f6d93716-6fb4-47f2-aaee-2ddbb15da049",
   "metadata": {},
   "outputs": [
    {
     "data": {
      "text/plain": [
       "array([[11,  1],\n",
       "       [ 8,  0]])"
      ]
     },
     "execution_count": 48,
     "metadata": {},
     "output_type": "execute_result"
    }
   ],
   "source": [
    "A+B #Kan kun legge sammen matiser med samme dimensjon. "
   ]
  },
  {
   "cell_type": "code",
   "execution_count": 50,
   "id": "066cc5ce-7012-496d-bb54-7b132816afa5",
   "metadata": {},
   "outputs": [],
   "source": [
    "A = np.array([[3, 6, 7], [5, -3, 0]]) #2X3\n",
    "B = np.array([[1, 1], [2, 1], [3, -3]]) #3X2"
   ]
  },
  {
   "cell_type": "code",
   "execution_count": 52,
   "id": "bad288e0-6edc-4a33-a3a1-2fd9ec541ec9",
   "metadata": {},
   "outputs": [
    {
     "data": {
      "text/plain": [
       "array([[ 36, -12],\n",
       "       [ -1,   2]])"
      ]
     },
     "execution_count": 52,
     "metadata": {},
     "output_type": "execute_result"
    }
   ],
   "source": [
    "A.dot(B) #Kan kun mulipliserer matiser, der den ene matiserens rad er den andres koloner; r X k og k X r"
   ]
  },
  {
   "cell_type": "code",
   "execution_count": 60,
   "id": "0c5dd3f5-d364-4df1-83c5-55b1e1b8f2cc",
   "metadata": {},
   "outputs": [
    {
     "data": {
      "text/plain": [
       "array([[ 3,  5],\n",
       "       [ 6, -3],\n",
       "       [ 7,  0]])"
      ]
     },
     "execution_count": 60,
     "metadata": {},
     "output_type": "execute_result"
    }
   ],
   "source": [
    "A.transpose() #A^T Her er elementene i radene og kolonene omvendt i fra orginalen"
   ]
  },
  {
   "cell_type": "code",
   "execution_count": 62,
   "id": "4c637896-da96-4ca0-8d93-baebb28b9a5c",
   "metadata": {},
   "outputs": [
    {
     "data": {
      "text/plain": [
       "array([[ 1,  2,  3],\n",
       "       [ 1,  1, -3]])"
      ]
     },
     "execution_count": 62,
     "metadata": {},
     "output_type": "execute_result"
    }
   ],
   "source": [
    "B.transpose() #B^T"
   ]
  }
 ],
 "metadata": {
  "kernelspec": {
   "display_name": "Python [conda env:base] *",
   "language": "python",
   "name": "conda-base-py"
  },
  "language_info": {
   "codemirror_mode": {
    "name": "ipython",
    "version": 3
   },
   "file_extension": ".py",
   "mimetype": "text/x-python",
   "name": "python",
   "nbconvert_exporter": "python",
   "pygments_lexer": "ipython3",
   "version": "3.12.7"
  }
 },
 "nbformat": 4,
 "nbformat_minor": 5
}
