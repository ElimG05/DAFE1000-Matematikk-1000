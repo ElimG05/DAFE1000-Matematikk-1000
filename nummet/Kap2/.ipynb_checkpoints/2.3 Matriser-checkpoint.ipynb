{
 "cells": [
  {
   "cell_type": "code",
   "execution_count": 2,
   "id": "5fb68325-9dc1-4b00-94c4-421de045b270",
   "metadata": {
    "editable": true,
    "slideshow": {
     "slide_type": ""
    },
    "tags": []
   },
   "outputs": [],
   "source": [
    "import numpy as np"
   ]
  },
  {
   "cell_type": "code",
   "execution_count": 6,
   "id": "418646aa-9e01-46f6-bbf6-bcfcb3e925b2",
   "metadata": {},
   "outputs": [],
   "source": [
    "v=np.array([[2],[-4],[np.pi]]) #a) #søylevektor"
   ]
  },
  {
   "cell_type": "code",
   "execution_count": 12,
   "id": "014e73f2-56cd-4132-93e5-dd7e3f7ef00e",
   "metadata": {},
   "outputs": [
    {
     "name": "stdout",
     "output_type": "stream",
     "text": [
      "[[ 2.        ]\n",
      " [-4.        ]\n",
      " [ 3.14159265]]\n"
     ]
    }
   ],
   "source": [
    "print(v)"
   ]
  },
  {
   "cell_type": "code",
   "execution_count": 26,
   "id": "0d5967c2-d188-48f5-b0ef-d6309275a712",
   "metadata": {},
   "outputs": [],
   "source": [
    "M=np.array([[2,0,7,4],[-2,2,9,8],[1.4,-7,14,0]]) #b) #3X4-matrise (rekke- og søylevektorer)"
   ]
  },
  {
   "cell_type": "code",
   "execution_count": 28,
   "id": "dc9aedca-db1e-4777-a8fd-86f336b3959f",
   "metadata": {},
   "outputs": [
    {
     "name": "stdout",
     "output_type": "stream",
     "text": [
      "[[ 2.   0.   7.   4. ]\n",
      " [-2.   2.   9.   8. ]\n",
      " [ 1.4 -7.  14.   0. ]]\n"
     ]
    }
   ],
   "source": [
    "print(M)"
   ]
  },
  {
   "cell_type": "code",
   "execution_count": 30,
   "id": "bfc81d29-a15d-4433-84d2-c086de891911",
   "metadata": {},
   "outputs": [
    {
     "data": {
      "text/plain": [
       "-7.0"
      ]
     },
     "execution_count": 30,
     "metadata": {},
     "output_type": "execute_result"
    }
   ],
   "source": [
    "M[2,1] #c) "
   ]
  },
  {
   "cell_type": "code",
   "execution_count": 32,
   "id": "a0456956-4446-4233-b2c6-2b7f66f57e6c",
   "metadata": {},
   "outputs": [
    {
     "data": {
      "text/plain": [
       "array([ 1.4, -7. , 14. ,  0. ])"
      ]
     },
     "execution_count": 32,
     "metadata": {},
     "output_type": "execute_result"
    }
   ],
   "source": [
    "M[2,:] #resulat: hele raden (index 2)"
   ]
  },
  {
   "cell_type": "code",
   "execution_count": 34,
   "id": "b201e2ce-9c8b-4895-8c39-cfce0ef0a1b5",
   "metadata": {},
   "outputs": [
    {
     "data": {
      "text/plain": [
       "array([-7., 14.])"
      ]
     },
     "execution_count": 34,
     "metadata": {},
     "output_type": "execute_result"
    }
   ],
   "source": [
    "M[2,1:3] #rad: index 2 og kolone: fra og med 1 og til 3"
   ]
  },
  {
   "cell_type": "code",
   "execution_count": null,
   "id": "85976db7-02a7-4cce-ac5a-198a2d724083",
   "metadata": {},
   "outputs": [],
   "source": [
    "M[:,3] "
   ]
  }
 ],
 "metadata": {
  "kernelspec": {
   "display_name": "Python [conda env:base] *",
   "language": "python",
   "name": "conda-base-py"
  },
  "language_info": {
   "codemirror_mode": {
    "name": "ipython",
    "version": 3
   },
   "file_extension": ".py",
   "mimetype": "text/x-python",
   "name": "python",
   "nbconvert_exporter": "python",
   "pygments_lexer": "ipython3",
   "version": "3.12.7"
  }
 },
 "nbformat": 4,
 "nbformat_minor": 5
}
